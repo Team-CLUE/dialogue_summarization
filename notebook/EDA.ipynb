{
 "cells": [
  {
   "cell_type": "markdown",
   "metadata": {},
   "source": [
    "# 필요 라이브러리 임포트"
   ]
  },
  {
   "cell_type": "code",
   "execution_count": 54,
   "metadata": {},
   "outputs": [],
   "source": [
    "import os\n",
    "import json\n",
    "import re"
   ]
  },
  {
   "cell_type": "markdown",
   "metadata": {},
   "source": [
    "# 데이터 경로 설정 및 한글 디코딩"
   ]
  },
  {
   "cell_type": "code",
   "execution_count": 11,
   "metadata": {},
   "outputs": [],
   "source": [
    "data_path = \"../data/Training/[#Ub77c#Ubca8]#Ud55c#Uad6d#Uc5b4#Ub300#Ud654#Uc694#Uc57d_train\"\n",
    "datas = os.listdir(data_path)\n",
    "datas = [os.path.join(data_path,data) for data in datas]"
   ]
  },
  {
   "cell_type": "code",
   "execution_count": 87,
   "metadata": {},
   "outputs": [
    {
     "data": {
      "text/plain": [
       "['행사', '여가생활', '식음료', '개인및관계', '시사교육', '주거와생활', '미용과건강', '일과직업', '상거래(쇼핑)']"
      ]
     },
     "execution_count": 87,
     "metadata": {},
     "output_type": "execute_result"
    }
   ],
   "source": [
    "def decode_unicodec(s:str):\n",
    "    seps = re.findall('#U[a-z0-9]*',s)\n",
    "    for sep in seps:\n",
    "        decoded = chr(int('0x'+sep[2:],16))\n",
    "        s = s.replace(sep, decoded)\n",
    "    return s\n",
    "    \n",
    "hangle_path = list(map(decode_unicodec, datas))\n",
    "hangle_category = list(map(lambda x:x.split(\"/\")[-1].replace(\".json\",\"\"), hangle_path))\n",
    "hangle_category"
   ]
  },
  {
   "cell_type": "markdown",
   "metadata": {},
   "source": [
    "# 데이터 로드"
   ]
  },
  {
   "cell_type": "code",
   "execution_count": 88,
   "metadata": {},
   "outputs": [],
   "source": [
    "ai_hub = {}\n",
    "\n",
    "for data, category in zip(datas,hangle_category):\n",
    "    with open(data) as f:\n",
    "        ai_hub[category] = json.load(f)"
   ]
  },
  {
   "cell_type": "code",
   "execution_count": null,
   "metadata": {},
   "outputs": [],
   "source": []
  }
 ],
 "metadata": {
  "interpreter": {
   "hash": "d4d1e4263499bec80672ea0156c357c1ee493ec2b1c70f0acce89fc37c4a6abe"
  },
  "kernelspec": {
   "display_name": "Python 3.8.5 64-bit ('base': conda)",
   "name": "python3"
  },
  "language_info": {
   "codemirror_mode": {
    "name": "ipython",
    "version": 3
   },
   "file_extension": ".py",
   "mimetype": "text/x-python",
   "name": "python",
   "nbconvert_exporter": "python",
   "pygments_lexer": "ipython3",
   "version": "3.8.5"
  },
  "orig_nbformat": 4
 },
 "nbformat": 4,
 "nbformat_minor": 2
}
