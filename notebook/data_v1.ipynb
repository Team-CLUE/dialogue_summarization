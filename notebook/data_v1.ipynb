{
 "cells": [
  {
   "cell_type": "markdown",
   "metadata": {},
   "source": [
    "# Load Data"
   ]
  },
  {
   "cell_type": "code",
   "execution_count": 1,
   "metadata": {},
   "outputs": [],
   "source": [
    "import pandas as pd\n",
    "import numpy as np\n",
    "import json\n",
    "import os\n",
    "from glob import glob\n",
    "\n",
    "from tqdm.notebook import tqdm"
   ]
  },
  {
   "cell_type": "code",
   "execution_count": 2,
   "metadata": {},
   "outputs": [],
   "source": [
    "DATA_DIR = \"../dataset/kor-dialouge-data/\""
   ]
  },
  {
   "cell_type": "code",
   "execution_count": 3,
   "metadata": {},
   "outputs": [],
   "source": [
    "TRAIN_DIR = \"Training/*\"\n",
    "VALIDATION_DIR = \"Validation/*\""
   ]
  },
  {
   "cell_type": "code",
   "execution_count": 4,
   "metadata": {},
   "outputs": [],
   "source": [
    "train_path = os.path.join(DATA_DIR,TRAIN_DIR)\n",
    "validation_path = os.path.join(DATA_DIR,VALIDATION_DIR)"
   ]
  },
  {
   "cell_type": "code",
   "execution_count": 5,
   "metadata": {},
   "outputs": [],
   "source": [
    "train_paths = glob(os.path.join(train_path,\"*\"))\n",
    "validation_paths = glob(os.path.join(validation_path,\"*\"))"
   ]
  },
  {
   "cell_type": "code",
   "execution_count": 6,
   "metadata": {},
   "outputs": [
    {
     "data": {
      "application/vnd.jupyter.widget-view+json": {
       "model_id": "84e4e860922045ef98ac75fc866c11f2",
       "version_major": 2,
       "version_minor": 0
      },
      "text/plain": [
       "  0%|          | 0/9 [00:00<?, ?it/s]"
      ]
     },
     "metadata": {},
     "output_type": "display_data"
    }
   ],
   "source": [
    "train = pd.DataFrame(columns=[\"ID\",\"num_of_people\",\"num_of_talk\",\"type\",\"topic\",\"person_info\",\"utterances\"])\n",
    "\n",
    "for p in tqdm(train_paths):\n",
    "\n",
    "    with open(p, 'r') as f:\n",
    "        f = json.load(f)\n",
    "\n",
    "    d_ids = [d['dialogueID'] for d in [data['header']['dialogueInfo'] for data in f['data']]]\n",
    "    num_of_people = [d['numberOfParticipants'] for d in [data['header']['dialogueInfo'] for data in f['data']]]\n",
    "    num_of_talk = [d['numberOfUtterances'] for d in [data['header']['dialogueInfo'] for data in f['data']]]\n",
    "    d_type = [d['type'] for d in [data['header']['dialogueInfo'] for data in f['data']]]\n",
    "    d_topic = [d['topic'] for d in [data['header']['dialogueInfo'] for data in f['data']]]\n",
    "    person_info = [\" \".join(list(map(lambda x:f\"{x['participantID']}:{x['gender']},{x['age']}\" ,d))) for d in [data['header']['participantsInfo'] for data in f['data']]]\n",
    "    utterances = [\" \".join(list(map(lambda x:\"<\"+x['participantID']+\">\"+x[\"utterance\"]+\"</\"+x['participantID']+\">\" ,utterance))) for utterance in [body['dialogue'] for body in [data['body'] for data in f['data']]]]\n",
    "\n",
    "    df_for_concat = pd.DataFrame({\n",
    "        \"ID\"             :d_ids,\n",
    "        \"num_of_people\"  :num_of_people,\n",
    "        \"num_of_talk\"    :num_of_talk,\n",
    "        \"type\"           :d_type,\n",
    "        \"topic\"          :d_topic,\n",
    "        \"person_info\"    :person_info,\n",
    "        \"utterances\"     :utterances,\n",
    "    })\n",
    "\n",
    "    train = pd.concat([train, df_for_concat])\n",
    "\n",
    "train = train.reset_index(drop=True)"
   ]
  },
  {
   "cell_type": "code",
   "execution_count": 7,
   "metadata": {},
   "outputs": [
    {
     "data": {
      "application/vnd.jupyter.widget-view+json": {
       "model_id": "cd0a3d4aadb045199e8d2da42f24112d",
       "version_major": 2,
       "version_minor": 0
      },
      "text/plain": [
       "  0%|          | 0/9 [00:00<?, ?it/s]"
      ]
     },
     "metadata": {},
     "output_type": "display_data"
    }
   ],
   "source": [
    "validation = pd.DataFrame(columns=[\"ID\",\"num_of_people\",\"num_of_talk\",\"type\",\"topic\",\"person_info\",\"utterances\"])\n",
    "\n",
    "for p in tqdm(validation_paths):\n",
    "\n",
    "    with open(p, 'r') as f:\n",
    "        f = json.load(f)\n",
    "\n",
    "    d_ids = [d['dialogueID'] for d in [data['header']['dialogueInfo'] for data in f['data']]]\n",
    "    num_of_people = [d['numberOfParticipants'] for d in [data['header']['dialogueInfo'] for data in f['data']]]\n",
    "    num_of_talk = [d['numberOfUtterances'] for d in [data['header']['dialogueInfo'] for data in f['data']]]\n",
    "    d_type = [d['type'] for d in [data['header']['dialogueInfo'] for data in f['data']]]\n",
    "    d_topic = [d['topic'] for d in [data['header']['dialogueInfo'] for data in f['data']]]\n",
    "    person_info = [\" \".join(list(map(lambda x:f\"{x['participantID']}:{x['gender']},{x['age']}\" ,d))) for d in [data['header']['participantsInfo'] for data in f['data']]]\n",
    "    utterances = [\" \".join(list(map(lambda x:\"<\"+x['participantID']+\">\"+x[\"utterance\"]+\"</\"+x['participantID']+\">\" ,utterance))) for utterance in [body['dialogue'] for body in [data['body'] for data in f['data']]]]\n",
    "\n",
    "    df_for_concat = pd.DataFrame({\n",
    "        \"ID\"             :d_ids,\n",
    "        \"num_of_people\"  :num_of_people,\n",
    "        \"num_of_talk\"    :num_of_talk,\n",
    "        \"type\"           :d_type,\n",
    "        \"topic\"          :d_topic,\n",
    "        \"person_info\"    :person_info,\n",
    "        \"utterances\"     :utterances,\n",
    "    })\n",
    "\n",
    "    validation = pd.concat([validation, df_for_concat])\n",
    "\n",
    "validation = validation.reset_index(drop=True)"
   ]
  },
  {
   "cell_type": "code",
   "execution_count": 14,
   "metadata": {},
   "outputs": [],
   "source": [
    "train.to_csv(\"../dataset/kor-dialouge-data/data_v1/train_v1.tsv\",sep=\"\\t\",index=False)\n",
    "validation.to_csv(\"../dataset/kor-dialouge-data/data_v1/validation_v1.tsv\",sep=\"\\t\",index=False)"
   ]
  }
 ],
 "metadata": {
  "interpreter": {
   "hash": "0d183dba64de45ff65d383c99f69f44a0fcf70ad6075cafc746cb1d6881d1c87"
  },
  "kernelspec": {
   "display_name": "Python 3.8.12 64-bit ('dialogue-summary': conda)",
   "language": "python",
   "name": "python3"
  },
  "language_info": {
   "codemirror_mode": {
    "name": "ipython",
    "version": 3
   },
   "file_extension": ".py",
   "mimetype": "text/x-python",
   "name": "python",
   "nbconvert_exporter": "python",
   "pygments_lexer": "ipython3",
   "version": "3.8.12"
  },
  "orig_nbformat": 4
 },
 "nbformat": 4,
 "nbformat_minor": 2
}
