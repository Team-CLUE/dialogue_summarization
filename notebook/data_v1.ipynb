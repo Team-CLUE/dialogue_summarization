{
 "cells": [
  {
   "cell_type": "markdown",
   "metadata": {},
   "source": [
    "# Load Data"
   ]
  },
  {
   "cell_type": "code",
   "execution_count": 1,
   "metadata": {},
   "outputs": [],
   "source": [
    "import pandas as pd\n",
    "import numpy as np\n",
    "import json\n",
    "import os\n",
    "from glob import glob\n",
    "\n",
    "from tqdm.notebook import tqdm"
   ]
  },
  {
   "cell_type": "code",
   "execution_count": 2,
   "metadata": {},
   "outputs": [],
   "source": [
    "DATA_DIR = \"../dataset/kor-dialouge-data/\""
   ]
  },
  {
   "cell_type": "code",
   "execution_count": 3,
   "metadata": {},
   "outputs": [],
   "source": [
    "TRAIN_DIR = \"Training/*\"\n",
    "VALIDATION_DIR = \"Validation/*\""
   ]
  },
  {
   "cell_type": "code",
   "execution_count": 4,
   "metadata": {},
   "outputs": [],
   "source": [
    "train_path = os.path.join(DATA_DIR,TRAIN_DIR)\n",
    "validation_path = os.path.join(DATA_DIR,VALIDATION_DIR)"
   ]
  },
  {
   "cell_type": "code",
   "execution_count": 5,
   "metadata": {},
   "outputs": [],
   "source": [
    "train_paths = glob(os.path.join(train_path,\"*\"))\n",
    "validation_paths = glob(os.path.join(validation_path,\"*\"))"
   ]
  },
  {
   "cell_type": "code",
   "execution_count": 7,
   "metadata": {},
   "outputs": [
    {
     "data": {
      "application/vnd.jupyter.widget-view+json": {
       "model_id": "33cb0694a63340ed89994e2160a72261",
       "version_major": 2,
       "version_minor": 0
      },
      "text/plain": [
       "  0%|          | 0/9 [00:00<?, ?it/s]"
      ]
     },
     "metadata": {},
     "output_type": "display_data"
    }
   ],
   "source": [
    "train = pd.DataFrame(columns=[\"ID\",\"num_of_people\",\"num_of_talk\",\"type\",\"topic\",\"person_info\",\"utterances\"])\n",
    "\n",
    "for p in tqdm(train_paths):\n",
    "\n",
    "    with open(p, 'r') as f:\n",
    "        f = json.load(f)\n",
    "\n",
    "    d_ids = [d['dialogueID'] for d in [data['header']['dialogueInfo'] for data in f['data']]]\n",
    "    num_of_people = [d['numberOfParticipants'] for d in [data['header']['dialogueInfo'] for data in f['data']]]\n",
    "    num_of_talk = [d['numberOfUtterances'] for d in [data['header']['dialogueInfo'] for data in f['data']]]\n",
    "    d_type = [d['type'] for d in [data['header']['dialogueInfo'] for data in f['data']]]\n",
    "    d_topic = [d['topic'] for d in [data['header']['dialogueInfo'] for data in f['data']]]\n",
    "    person_info = [\" \".join(list(map(lambda x:f\"{x['participantID']}:{x['gender']},{x['age']}\" ,d))) for d in [data['header']['participantsInfo'] for data in f['data']]]\n",
    "    utterances = [\" \".join(list(map(lambda x:\"<\"+x['participantID']+\">\"+x[\"utterance\"]+\"</\"+x['participantID']+\">\" ,utterance))) for utterance in [body['dialogue'] for body in [data['body'] for data in f['data']]]]\n",
    "\n",
    "    df_for_concat = pd.DataFrame({\n",
    "        \"ID\"             :d_ids,\n",
    "        \"num_of_people\"  :num_of_people,\n",
    "        \"num_of_talk\"    :num_of_talk,\n",
    "        \"type\"           :d_type,\n",
    "        \"topic\"          :d_topic,\n",
    "        \"person_info\"    :person_info,\n",
    "        \"utterances\"     :utterances,\n",
    "    })\n",
    "\n",
    "    train = pd.concat([train, df_for_concat])\n",
    "\n",
    "train = train.reset_index(drop=True)"
   ]
  },
  {
   "cell_type": "code",
   "execution_count": 13,
   "metadata": {},
   "outputs": [
    {
     "data": {
      "text/html": [
       "<div>\n",
       "<style scoped>\n",
       "    .dataframe tbody tr th:only-of-type {\n",
       "        vertical-align: middle;\n",
       "    }\n",
       "\n",
       "    .dataframe tbody tr th {\n",
       "        vertical-align: top;\n",
       "    }\n",
       "\n",
       "    .dataframe thead th {\n",
       "        text-align: right;\n",
       "    }\n",
       "</style>\n",
       "<table border=\"1\" class=\"dataframe\">\n",
       "  <thead>\n",
       "    <tr style=\"text-align: right;\">\n",
       "      <th></th>\n",
       "      <th>ID</th>\n",
       "      <th>num_of_people</th>\n",
       "      <th>num_of_talk</th>\n",
       "      <th>type</th>\n",
       "      <th>topic</th>\n",
       "      <th>person_info</th>\n",
       "      <th>utterances</th>\n",
       "    </tr>\n",
       "  </thead>\n",
       "  <tbody>\n",
       "    <tr>\n",
       "      <th>0</th>\n",
       "      <td>94f286eb-309e-5657-afe9-40ad840a1071</td>\n",
       "      <td>2</td>\n",
       "      <td>10</td>\n",
       "      <td>일상 대화</td>\n",
       "      <td>개인 및 관계</td>\n",
       "      <td>P01:여성,20대 P02:여성,20대</td>\n",
       "      <td>&lt;P01&gt;근데 왜 막말을 할까...&lt;/P01&gt; &lt;P01&gt;이유가 뭘까...&lt;/P01&gt;...</td>\n",
       "    </tr>\n",
       "    <tr>\n",
       "      <th>1</th>\n",
       "      <td>8f4355c8-f324-5376-9746-90bdcb843458</td>\n",
       "      <td>2</td>\n",
       "      <td>16</td>\n",
       "      <td>일상 대화</td>\n",
       "      <td>개인 및 관계</td>\n",
       "      <td>P01:여성,20대 P02:여성,20대</td>\n",
       "      <td>&lt;P01&gt;대박&lt;/P01&gt; &lt;P01&gt;#@소속# 다니던&lt;/P01&gt; &lt;P01&gt;#@이름# ...</td>\n",
       "    </tr>\n",
       "    <tr>\n",
       "      <th>2</th>\n",
       "      <td>dbc95770-d1da-5921-8ea8-14e2b4f0f9a8</td>\n",
       "      <td>2</td>\n",
       "      <td>9</td>\n",
       "      <td>일상 대화</td>\n",
       "      <td>개인 및 관계</td>\n",
       "      <td>P01:남성,20대 P02:남성,20대</td>\n",
       "      <td>&lt;P01&gt;너는 대중적이지 않은 새로 만들어진 종교나 단체를 쉽게 신뢰하는 성격이야?...</td>\n",
       "    </tr>\n",
       "    <tr>\n",
       "      <th>3</th>\n",
       "      <td>d91f77ae-caf4-5c85-bf4b-1626e13d6809</td>\n",
       "      <td>2</td>\n",
       "      <td>11</td>\n",
       "      <td>일상 대화</td>\n",
       "      <td>개인 및 관계</td>\n",
       "      <td>P01:여성,30대 P02:남성,30대</td>\n",
       "      <td>&lt;P01&gt;여봉&lt;/P01&gt; &lt;P01&gt;바쁘오?&lt;/P01&gt; &lt;P02&gt;응...쪼끔,.야근할...</td>\n",
       "    </tr>\n",
       "    <tr>\n",
       "      <th>4</th>\n",
       "      <td>a2b26381-cc6d-5140-a71b-2299b37cbd4c</td>\n",
       "      <td>2</td>\n",
       "      <td>8</td>\n",
       "      <td>일상 대화</td>\n",
       "      <td>개인 및 관계</td>\n",
       "      <td>P01:여성,20대 P02:남성,20대</td>\n",
       "      <td>&lt;P01&gt;5시에저나&lt;/P01&gt; &lt;P01&gt;가넝 한 가&lt;/P01&gt; &lt;P02&gt;응응&lt;/P0...</td>\n",
       "    </tr>\n",
       "    <tr>\n",
       "      <th>...</th>\n",
       "      <td>...</td>\n",
       "      <td>...</td>\n",
       "      <td>...</td>\n",
       "      <td>...</td>\n",
       "      <td>...</td>\n",
       "      <td>...</td>\n",
       "      <td>...</td>\n",
       "    </tr>\n",
       "    <tr>\n",
       "      <th>279987</th>\n",
       "      <td>53116443-eb8c-5d1a-9386-6f392edda706</td>\n",
       "      <td>2</td>\n",
       "      <td>10</td>\n",
       "      <td>일상 대화</td>\n",
       "      <td>여가 생활</td>\n",
       "      <td>P01:여성,20대 P02:여성,20대</td>\n",
       "      <td>&lt;P01&gt;#@시스템#사진#&lt;/P01&gt; &lt;P01&gt;이거바&lt;/P01&gt; &lt;P02&gt;디올에서 ...</td>\n",
       "    </tr>\n",
       "    <tr>\n",
       "      <th>279988</th>\n",
       "      <td>a1df98c0-aa40-550a-bbfa-6045051633b8</td>\n",
       "      <td>2</td>\n",
       "      <td>8</td>\n",
       "      <td>일상 대화</td>\n",
       "      <td>여가 생활</td>\n",
       "      <td>P01:남성,30대 P02:여성,20대</td>\n",
       "      <td>&lt;P01&gt;응응 그렇지...&lt;/P01&gt; &lt;P02&gt;오빠...&lt;/P02&gt; &lt;P01&gt;응응?...</td>\n",
       "    </tr>\n",
       "    <tr>\n",
       "      <th>279989</th>\n",
       "      <td>1de04e2e-6664-5e27-b1f7-a76d498226be</td>\n",
       "      <td>2</td>\n",
       "      <td>11</td>\n",
       "      <td>일상 대화</td>\n",
       "      <td>여가 생활</td>\n",
       "      <td>P01:여성,20대 P02:여성,20대</td>\n",
       "      <td>&lt;P01&gt;아 와인 생각보다 도수가 높네요&lt;/P01&gt; &lt;P02&gt;아 와인 조아요&lt;/P0...</td>\n",
       "    </tr>\n",
       "    <tr>\n",
       "      <th>279990</th>\n",
       "      <td>dceba922-e328-5196-b85c-8d929366410a</td>\n",
       "      <td>2</td>\n",
       "      <td>9</td>\n",
       "      <td>일상 대화</td>\n",
       "      <td>여가 생활</td>\n",
       "      <td>P01:여성,30대 P02:남성,30대</td>\n",
       "      <td>&lt;P01&gt;뭐해&lt;/P01&gt; &lt;P02&gt;컴퓨터&lt;/P02&gt; &lt;P02&gt;영화보려고 티빙 아이디...</td>\n",
       "    </tr>\n",
       "    <tr>\n",
       "      <th>279991</th>\n",
       "      <td>1d84c6a3-9e24-59bb-806d-c1d1c378b252</td>\n",
       "      <td>2</td>\n",
       "      <td>17</td>\n",
       "      <td>일상 대화</td>\n",
       "      <td>여가 생활</td>\n",
       "      <td>P01:여성,20대 P02:여성,20대</td>\n",
       "      <td>&lt;P01&gt;아 근데&lt;/P01&gt; &lt;P01&gt;요즘 부쩍&lt;/P01&gt; &lt;P01&gt;얘들 다 어른된...</td>\n",
       "    </tr>\n",
       "  </tbody>\n",
       "</table>\n",
       "<p>279992 rows × 7 columns</p>\n",
       "</div>"
      ],
      "text/plain": [
       "                                          ID num_of_people num_of_talk   type  \\\n",
       "0       94f286eb-309e-5657-afe9-40ad840a1071             2          10  일상 대화   \n",
       "1       8f4355c8-f324-5376-9746-90bdcb843458             2          16  일상 대화   \n",
       "2       dbc95770-d1da-5921-8ea8-14e2b4f0f9a8             2           9  일상 대화   \n",
       "3       d91f77ae-caf4-5c85-bf4b-1626e13d6809             2          11  일상 대화   \n",
       "4       a2b26381-cc6d-5140-a71b-2299b37cbd4c             2           8  일상 대화   \n",
       "...                                      ...           ...         ...    ...   \n",
       "279987  53116443-eb8c-5d1a-9386-6f392edda706             2          10  일상 대화   \n",
       "279988  a1df98c0-aa40-550a-bbfa-6045051633b8             2           8  일상 대화   \n",
       "279989  1de04e2e-6664-5e27-b1f7-a76d498226be             2          11  일상 대화   \n",
       "279990  dceba922-e328-5196-b85c-8d929366410a             2           9  일상 대화   \n",
       "279991  1d84c6a3-9e24-59bb-806d-c1d1c378b252             2          17  일상 대화   \n",
       "\n",
       "          topic            person_info  \\\n",
       "0       개인 및 관계  P01:여성,20대 P02:여성,20대   \n",
       "1       개인 및 관계  P01:여성,20대 P02:여성,20대   \n",
       "2       개인 및 관계  P01:남성,20대 P02:남성,20대   \n",
       "3       개인 및 관계  P01:여성,30대 P02:남성,30대   \n",
       "4       개인 및 관계  P01:여성,20대 P02:남성,20대   \n",
       "...         ...                    ...   \n",
       "279987    여가 생활  P01:여성,20대 P02:여성,20대   \n",
       "279988    여가 생활  P01:남성,30대 P02:여성,20대   \n",
       "279989    여가 생활  P01:여성,20대 P02:여성,20대   \n",
       "279990    여가 생활  P01:여성,30대 P02:남성,30대   \n",
       "279991    여가 생활  P01:여성,20대 P02:여성,20대   \n",
       "\n",
       "                                               utterances  \n",
       "0       <P01>근데 왜 막말을 할까...</P01> <P01>이유가 뭘까...</P01>...  \n",
       "1       <P01>대박</P01> <P01>#@소속# 다니던</P01> <P01>#@이름# ...  \n",
       "2       <P01>너는 대중적이지 않은 새로 만들어진 종교나 단체를 쉽게 신뢰하는 성격이야?...  \n",
       "3       <P01>여봉</P01> <P01>바쁘오?</P01> <P02>응...쪼끔,.야근할...  \n",
       "4       <P01>5시에저나</P01> <P01>가넝 한 가</P01> <P02>응응</P0...  \n",
       "...                                                   ...  \n",
       "279987  <P01>#@시스템#사진#</P01> <P01>이거바</P01> <P02>디올에서 ...  \n",
       "279988  <P01>응응 그렇지...</P01> <P02>오빠...</P02> <P01>응응?...  \n",
       "279989  <P01>아 와인 생각보다 도수가 높네요</P01> <P02>아 와인 조아요</P0...  \n",
       "279990  <P01>뭐해</P01> <P02>컴퓨터</P02> <P02>영화보려고 티빙 아이디...  \n",
       "279991  <P01>아 근데</P01> <P01>요즘 부쩍</P01> <P01>얘들 다 어른된...  \n",
       "\n",
       "[279992 rows x 7 columns]"
      ]
     },
     "execution_count": 13,
     "metadata": {},
     "output_type": "execute_result"
    }
   ],
   "source": [
    "train"
   ]
  },
  {
   "cell_type": "code",
   "execution_count": 7,
   "metadata": {},
   "outputs": [
    {
     "data": {
      "application/vnd.jupyter.widget-view+json": {
       "model_id": "cd0a3d4aadb045199e8d2da42f24112d",
       "version_major": 2,
       "version_minor": 0
      },
      "text/plain": [
       "  0%|          | 0/9 [00:00<?, ?it/s]"
      ]
     },
     "metadata": {},
     "output_type": "display_data"
    }
   ],
   "source": [
    "validation = pd.DataFrame(columns=[\"ID\",\"num_of_people\",\"num_of_talk\",\"type\",\"topic\",\"person_info\",\"utterances\"])\n",
    "\n",
    "for p in tqdm(validation_paths):\n",
    "\n",
    "    with open(p, 'r') as f:\n",
    "        f = json.load(f)\n",
    "\n",
    "    d_ids = [d['dialogueID'] for d in [data['header']['dialogueInfo'] for data in f['data']]]\n",
    "    num_of_people = [d['numberOfParticipants'] for d in [data['header']['dialogueInfo'] for data in f['data']]]\n",
    "    num_of_talk = [d['numberOfUtterances'] for d in [data['header']['dialogueInfo'] for data in f['data']]]\n",
    "    d_type = [d['type'] for d in [data['header']['dialogueInfo'] for data in f['data']]]\n",
    "    d_topic = [d['topic'] for d in [data['header']['dialogueInfo'] for data in f['data']]]\n",
    "    person_info = [\" \".join(list(map(lambda x:f\"{x['participantID']}:{x['gender']},{x['age']}\" ,d))) for d in [data['header']['participantsInfo'] for data in f['data']]]\n",
    "    utterances = [\" \".join(list(map(lambda x:\"<\"+x['participantID']+\">\"+x[\"utterance\"]+\"</\"+x['participantID']+\">\" ,utterance))) for utterance in [body['dialogue'] for body in [data['body'] for data in f['data']]]]\n",
    "\n",
    "    df_for_concat = pd.DataFrame({\n",
    "        \"ID\"             :d_ids,\n",
    "        \"num_of_people\"  :num_of_people,\n",
    "        \"num_of_talk\"    :num_of_talk,\n",
    "        \"type\"           :d_type,\n",
    "        \"topic\"          :d_topic,\n",
    "        \"person_info\"    :person_info,\n",
    "        \"utterances\"     :utterances,\n",
    "    })\n",
    "\n",
    "    validation = pd.concat([validation, df_for_concat])\n",
    "\n",
    "validation = validation.reset_index(drop=True)"
   ]
  },
  {
   "cell_type": "code",
   "execution_count": 14,
   "metadata": {},
   "outputs": [],
   "source": [
    "train.to_csv(\"../dataset/kor-dialouge-data/data_v1/train_v1.tsv\",sep=\"\\t\",index=False)\n",
    "validation.to_csv(\"../dataset/kor-dialouge-data/data_v1/validation_v1.tsv\",sep=\"\\t\",index=False)"
   ]
  }
 ],
 "metadata": {
  "interpreter": {
   "hash": "0d183dba64de45ff65d383c99f69f44a0fcf70ad6075cafc746cb1d6881d1c87"
  },
  "kernelspec": {
   "display_name": "Python 3.8.12 64-bit ('dialogue-summary': conda)",
   "language": "python",
   "name": "python3"
  },
  "language_info": {
   "codemirror_mode": {
    "name": "ipython",
    "version": 3
   },
   "file_extension": ".py",
   "mimetype": "text/x-python",
   "name": "python",
   "nbconvert_exporter": "python",
   "pygments_lexer": "ipython3",
   "version": "3.8.12"
  },
  "orig_nbformat": 4
 },
 "nbformat": 4,
 "nbformat_minor": 2
}
