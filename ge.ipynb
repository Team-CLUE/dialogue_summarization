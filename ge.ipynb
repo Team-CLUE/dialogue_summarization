{
 "cells": [
  {
   "cell_type": "code",
   "execution_count": 1,
   "metadata": {},
   "outputs": [],
   "source": [
    "import os\n",
    "os.environ[\"TOKENIZERS_PARALLELISM\"] = \"false\"\n",
    "\n",
    "import argparse\n",
    "import torch\n",
    "\n",
    "from data.utill import get_data\n",
    "\n",
    "from models.toeknizers import get_tokenizer\n",
    "from models.bart import get_bart_model\n",
    "from train.train_utill import prepare_for_finetuning, set_trainer_for_finetuning"
   ]
  },
  {
   "cell_type": "code",
   "execution_count": 2,
   "id": "8073670a",
   "metadata": {},
   "outputs": [],
   "source": [
    "decoder_strat_token = ''\n",
    "end_of_sentence = ''"
   ]
  },
  {
   "cell_type": "code",
   "execution_count": 3,
   "id": "a1579964",
   "metadata": {},
   "outputs": [
    {
     "name": "stdout",
     "output_type": "stream",
     "text": [
      "['/opt/ml/git/data/Validation/시사교육.json', '/opt/ml/git/data/Validation/미용과건강.json', '/opt/ml/git/data/Validation/행사.json', '/opt/ml/git/data/Validation/상거래(쇼핑).json', '/opt/ml/git/data/Validation/주거와생활.json', '/opt/ml/git/data/Validation/개인및관계.json', '/opt/ml/git/data/Validation/여가생활.json', '/opt/ml/git/data/Validation/일과직업.json', '/opt/ml/git/data/Validation/식음료.json']\n"
     ]
    },
    {
     "name": "stderr",
     "output_type": "stream",
     "text": [
      "100%|██████████| 35004/35004 [00:00<00:00, 159945.77it/s]\n"
     ]
    },
    {
     "name": "stdout",
     "output_type": "stream",
     "text": [
      "deleted unnecessary char!!\n"
     ]
    },
    {
     "name": "stderr",
     "output_type": "stream",
     "text": [
      "100%|██████████| 35004/35004 [00:00<00:00, 222424.68it/s]\n"
     ]
    },
    {
     "name": "stdout",
     "output_type": "stream",
     "text": [
      "deleted unnecessary tokens (E.g. #@URL#)!!\n"
     ]
    }
   ],
   "source": [
    "datas = get_data(decoder_strat_token, end_of_sentence, 'finetuning') # -> finetuning\n",
    "if len(datas) == 2:\n",
    "    encoder_input_train, decoder_output_train = datas\n",
    "elif len(datas) == 3:\n",
    "    encoder_input_train, decoder_input_train, decoder_output_train = datas"
   ]
  },
  {
   "cell_type": "code",
   "execution_count": 6,
   "id": "f594160c",
   "metadata": {},
   "outputs": [],
   "source": [
    "tk_name = 'mecab'\n",
    "load_dir = '/opt/ml/git/dialogue_summarization/results/fine_tuning/mecab/checkpoint-17500/'"
   ]
  },
  {
   "cell_type": "code",
   "execution_count": 7,
   "id": "f73431fd",
   "metadata": {},
   "outputs": [
    {
     "name": "stdout",
     "output_type": "stream",
     "text": [
      "---------- Load tokenizer ----------\n",
      "---------- Load tokenizer complete ----------\n"
     ]
    }
   ],
   "source": [
    "print('-'*10, 'Load tokenizer', '-'*10,)\n",
    "tokenizer = get_tokenizer(tk_name)\n",
    "print('-'*10, 'Load tokenizer complete', '-'*10,)"
   ]
  },
  {
   "cell_type": "code",
   "execution_count": 11,
   "id": "5691be08",
   "metadata": {},
   "outputs": [
    {
     "name": "stderr",
     "output_type": "stream",
     "text": [
      "/opt/conda/envs/dialogue/lib/python3.8/site-packages/transformers/tokenization_utils_base.py:2227: UserWarning: `max_length` is ignored when `padding`=`True`.\n",
      "  warnings.warn(\"`max_length` is ignored when `padding`=`True`.\")\n"
     ]
    }
   ],
   "source": [
    "train_dataset, valid_dataset = prepare_for_finetuning(tokenizer, encoder_input_train, decoder_input_train, decoder_output_train, batch_size=16)"
   ]
  },
  {
   "cell_type": "code",
   "execution_count": 14,
   "id": "ca47e5d5",
   "metadata": {},
   "outputs": [],
   "source": [
    "from torch.utils.data import DataLoader\n",
    "from tqdm.auto import tqdm"
   ]
  },
  {
   "cell_type": "code",
   "execution_count": 15,
   "id": "9a0f6e88",
   "metadata": {},
   "outputs": [],
   "source": [
    "device = 'cuda:0' if torch.cuda.is_available() else 'cpu'"
   ]
  },
  {
   "cell_type": "code",
   "execution_count": 19,
   "id": "669b2e4b",
   "metadata": {},
   "outputs": [
    {
     "name": "stderr",
     "output_type": "stream",
     "text": [
      "/opt/conda/envs/dialogue/lib/python3.8/site-packages/transformers/configuration_utils.py:336: UserWarning: Passing `gradient_checkpointing` to a config initialization is deprecated and will be removed in v5 Transformers. Using `model.gradient_checkpointing_enable()` instead, or if you are using the `Trainer` API, pass `gradient_checkpointing=True` in your `TrainingArguments`.\n",
      "  warnings.warn(\n"
     ]
    }
   ],
   "source": [
    "model = get_bart_model(load_dir, vocab_length= int(len(tokenizer)), tokenizer_name=tk_name)\n",
    "save_dir = os.path.join(load_dir, 'pytorch_model.bin')\n",
    "state_dict = torch.load(save_dir) \n",
    "model.load_state_dict(state_dict)\n",
    "model = model.to(device)"
   ]
  },
  {
   "cell_type": "code",
   "execution_count": 23,
   "id": "b61c395a",
   "metadata": {},
   "outputs": [
    {
     "data": {
      "text/plain": [
       "['input_ids',\n",
       " 'attention_mask',\n",
       " 'decoder_input_ids',\n",
       " 'decoder_attention_mask',\n",
       " 'labels']"
      ]
     },
     "execution_count": 23,
     "metadata": {},
     "output_type": "execute_result"
    }
   ],
   "source": [
    "list(item)"
   ]
  },
  {
   "cell_type": "code",
   "execution_count": 37,
   "id": "bab51331",
   "metadata": {},
   "outputs": [
    {
     "data": {
      "application/vnd.jupyter.widget-view+json": {
       "model_id": "38bc80c6d1b04de6828b2eee153b3d32",
       "version_major": 2,
       "version_minor": 0
      },
      "text/plain": [
       "  0%|          | 0/274 [00:00<?, ?it/s]"
      ]
     },
     "metadata": {},
     "output_type": "display_data"
    }
   ],
   "source": [
    "dataloader = DataLoader(train_dataset, batch_size=128)\n",
    "\n",
    "summary = []\n",
    "ground = []\n",
    "with torch.no_grad():\n",
    "    for item in tqdm(dataloader):\n",
    "        generated_ids = model.generate(input_ids=item['input_ids'].to(device), \n",
    "                        no_repeat_ngram_size=2, \n",
    "                        early_stopping=True,\n",
    "                        repetition_penalty=1.5,\n",
    "                        max_length=50, \n",
    "                        num_beams=5,\n",
    "                    )  \n",
    "        for g_ids, gt in zip(generated_ids, item['labels']):\n",
    "            result_pred = tokenizer.decode(g_ids, skip_special_tokens=True)\n",
    "            result_Gt = tokenizer.decode(gt, skip_special_tokens=True)\n",
    "            index = result.find('.')\n",
    "            if index != -1:\n",
    "                result = result[:index+1]\n",
    "            summary.append(result_pred)\n",
    "            ground.append(result_Gt)"
   ]
  },
  {
   "cell_type": "code",
   "execution_count": 38,
   "id": "4eaf48e5",
   "metadata": {},
   "outputs": [],
   "source": [
    "import pandas as pd\n",
    "df = pd.DataFrame()\n",
    "\n",
    "df['pred'] = result_pred\n",
    "df['gt'] = result_Gt\n",
    "\n",
    "df.to_csv('./preds/mecab_rep.csv', index=False)"
   ]
  },
  {
   "cell_type": "code",
   "execution_count": 33,
   "id": "7e257f8c",
   "metadata": {},
   "outputs": [],
   "source": [
    "from data.rouge import RougeScorer"
   ]
  },
  {
   "cell_type": "code",
   "execution_count": 34,
   "id": "c9505ca9",
   "metadata": {},
   "outputs": [],
   "source": [
    "rouge = RougeScorer()"
   ]
  },
  {
   "cell_type": "code",
   "execution_count": 39,
   "id": "9d9f81fa",
   "metadata": {},
   "outputs": [
    {
     "name": "stdout",
     "output_type": "stream",
     "text": [
      "0.000,0.000,0.000\n"
     ]
    }
   ],
   "source": [
    "print(rouge.compute_rouge(result_pred, result_Gt))"
   ]
  },
  {
   "cell_type": "code",
   "execution_count": 40,
   "id": "8b884ebd",
   "metadata": {},
   "outputs": [
    {
     "data": {
      "text/plain": [
       "'앞뒤 앞뒤 성수동 성수동청정기청정기성역성역토스트토스트 교류 교류 옥상 옥상였으면였으면 발랄 발랄 삼척 삼척 돌려줌 돌려줌 가속 가속 운동가 운동가 수강료 수강료 일으키 일으키 울진 울진 태워 태워 연예대상 연예대상 고마웠 고마웠 계모 계모칠칠 빌려 빌려'"
      ]
     },
     "execution_count": 40,
     "metadata": {},
     "output_type": "execute_result"
    }
   ],
   "source": [
    "result_pred"
   ]
  },
  {
   "cell_type": "code",
   "execution_count": null,
   "id": "57eed290",
   "metadata": {},
   "outputs": [],
   "source": []
  }
 ],
 "metadata": {
  "interpreter": {
   "hash": "5d890cba6af957fb214b3d066ec848fddb4116a70be5c1e06f535594292600b1"
  },
  "kernelspec": {
   "display_name": "Python 3.8.12 64-bit ('dialogue': conda)",
   "language": "python",
   "name": "python3"
  },
  "language_info": {
   "codemirror_mode": {
    "name": "ipython",
    "version": 3
   },
   "file_extension": ".py",
   "mimetype": "text/x-python",
   "name": "python",
   "nbconvert_exporter": "python",
   "pygments_lexer": "ipython3",
   "version": "3.8.12"
  }
 },
 "nbformat": 4,
 "nbformat_minor": 5
}
